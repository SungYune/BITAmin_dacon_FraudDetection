{
  "nbformat": 4,
  "nbformat_minor": 0,
  "metadata": {
    "colab": {
      "name": "LocalOutlierFactor.ipynb",
      "provenance": [],
      "collapsed_sections": []
    },
    "kernelspec": {
      "name": "python3",
      "display_name": "Python 3"
    },
    "language_info": {
      "name": "python"
    }
  },
  "cells": [
    {
      "cell_type": "code",
      "source": [
        "from google.colab import drive\n",
        "drive.mount('/content/drive')"
      ],
      "metadata": {
        "colab": {
          "base_uri": "https://localhost:8080/"
        },
        "id": "8KtFcSk6KGx_",
        "outputId": "b019f1b2-c3fc-4aaf-897f-76d270bb8bf0"
      },
      "execution_count": null,
      "outputs": [
        {
          "output_type": "stream",
          "name": "stdout",
          "text": [
            "Mounted at /content/drive\n"
          ]
        }
      ]
    },
    {
      "cell_type": "code",
      "source": [
        "import os\n",
        "os.chdir('/content/drive/MyDrive/dacon_anomaly')"
      ],
      "metadata": {
        "id": "NSgt-26VKNmG"
      },
      "execution_count": null,
      "outputs": []
    },
    {
      "cell_type": "code",
      "source": [
        "import pandas as pd\n",
        "import numpy as np\n",
        "from sklearn.metrics import f1_score\n",
        "from sklearn.metrics import classification_report"
      ],
      "metadata": {
        "id": "h6pIYn1WJrH0"
      },
      "execution_count": null,
      "outputs": []
    },
    {
      "cell_type": "code",
      "source": [
        "train_df = pd.read_csv('./data/train.csv') # Train\n",
        "train_x = train_df.drop(columns=['ID'])\n",
        "\n",
        "val_df = pd.read_csv('./data/val.csv') # Validation\n",
        "val_x = val_df.drop(columns=['ID', 'Class']) # Input Data\n",
        "val_y = val_df['Class'] # Label\n",
        "\n",
        "val_normal, val_fraud = val_df['Class'].value_counts()\n",
        "val_contamination = val_fraud / val_normal"
      ],
      "metadata": {
        "id": "-cb94rVf_OZZ"
      },
      "execution_count": null,
      "outputs": []
    },
    {
      "cell_type": "code",
      "source": [
        "# Singular Value Decomposition\n",
        "\n",
        "from sklearn.decomposition import TruncatedSVD\n",
        "\n",
        "n_components = 20\n",
        "algorithm = 'randomized'\n",
        "random_state = 42\n",
        "\n",
        "svd = TruncatedSVD(n_components=n_components, algorithm=algorithm, random_state=random_state)\n",
        "\n",
        "X_train_svd = svd.fit_transform(train_x)\n",
        "X_train_svd = pd.DataFrame(data=X_train_svd)\n",
        "\n",
        "X_valid_svd = svd.transform(val_x)\n",
        "X_valid_svd = pd.DataFrame(data=X_valid_svd)"
      ],
      "metadata": {
        "id": "nX754Q35wms_"
      },
      "execution_count": null,
      "outputs": []
    },
    {
      "cell_type": "code",
      "source": [
        "# LocalOutlierFactor \n",
        "\n",
        "from sklearn.neighbors import LocalOutlierFactor\n",
        "\n",
        "# 가설 설정 : Train dataset도 Validation dataset과 동일한 비율로 사기거래가 발생 했을 것이다. -> model parameter : contamination=val_contamination(=0.001055) 적용\n",
        "lof = LocalOutlierFactor(n_neighbors=20, contamination=val_contamination, novelty=True)\n",
        "lof.fit(X_train_svd)"
      ],
      "metadata": {
        "id": "humb3SJQ4P_w",
        "colab": {
          "base_uri": "https://localhost:8080/"
        },
        "outputId": "58a3d6f1-3673-4a35-af25-449e05b1bf94"
      },
      "execution_count": null,
      "outputs": [
        {
          "output_type": "execute_result",
          "data": {
            "text/plain": [
              "LocalOutlierFactor(contamination=0.0010551491277433877, novelty=True)"
            ]
          },
          "metadata": {},
          "execution_count": 6
        }
      ]
    },
    {
      "cell_type": "code",
      "source": [
        "### evaluation : validation set\n",
        "\n",
        "def get_pred_label(model_pred):\n",
        "    model_pred = np.where(model_pred == 1, 0, model_pred)\n",
        "    model_pred = np.where(model_pred == -1, 1, model_pred)\n",
        "    return model_pred"
      ],
      "metadata": {
        "id": "Wv-iEfU-DS_2"
      },
      "execution_count": null,
      "outputs": []
    },
    {
      "cell_type": "code",
      "source": [
        "from sklearn.metrics import f1_score\n",
        "from sklearn.metrics import classification_report\n",
        "\n",
        "val_pred =  lof.predict(X_valid_svd) #model prediction\n",
        "val_pred = get_pred_label(val_pred)\n",
        "val_score = f1_score(val_y, val_pred, average='macro')\n",
        "print(f'Validation F1 Score : [{val_score}]')\n",
        "print(classification_report(val_y, val_pred))"
      ],
      "metadata": {
        "colab": {
          "base_uri": "https://localhost:8080/"
        },
        "id": "Myy5WN3DCcR3",
        "outputId": "3a4b13b3-7189-43c0-9498-f9356f683252"
      },
      "execution_count": null,
      "outputs": [
        {
          "output_type": "stream",
          "name": "stdout",
          "text": [
            "Validation F1 Score : [0.49950763170851803]\n",
            "              precision    recall  f1-score   support\n",
            "\n",
            "           0       1.00      1.00      1.00     28432\n",
            "           1       0.00      0.00      0.00        30\n",
            "\n",
            "    accuracy                           1.00     28462\n",
            "   macro avg       0.50      0.50      0.50     28462\n",
            "weighted avg       1.00      1.00      1.00     28462\n",
            "\n"
          ]
        }
      ]
    },
    {
      "cell_type": "code",
      "source": [
        "test_df = pd.read_csv('./data/test.csv') # Train\n",
        "test_x = test_df.drop(columns=['ID'])"
      ],
      "metadata": {
        "id": "wLM6l55OCia0"
      },
      "execution_count": null,
      "outputs": []
    },
    {
      "cell_type": "code",
      "source": [
        "X_test_svd = svd.transform(test_x)\n",
        "X_test_svd = pd.DataFrame(data=X_test_svd)"
      ],
      "metadata": {
        "id": "Cwbh1vwjwzX9"
      },
      "execution_count": null,
      "outputs": []
    },
    {
      "cell_type": "code",
      "source": [
        "test_pred = lof.predict(X_test_svd) # model prediction\n",
        "test_pred = get_pred_label(test_pred)"
      ],
      "metadata": {
        "id": "9axAzGnDE3MN"
      },
      "execution_count": null,
      "outputs": []
    },
    {
      "cell_type": "code",
      "source": [
        "submit = pd.read_csv('./data/sample_submission.csv')"
      ],
      "metadata": {
        "id": "SMnmNwZXAQlM"
      },
      "execution_count": null,
      "outputs": []
    },
    {
      "cell_type": "code",
      "source": [
        "submit['Class'] = test_pred\n",
        "submit.to_csv('submit_SVDLocalOutlierFactor.csv', index=False)"
      ],
      "metadata": {
        "id": "j0FJGOlEAWHu"
      },
      "execution_count": null,
      "outputs": []
    },
    {
      "cell_type": "code",
      "source": [
        "lof = LocalOutlierFactor(n_neighbors=20, contamination=0.003, novelty=True)\n",
        "lof.fit(train_x)"
      ],
      "metadata": {
        "colab": {
          "base_uri": "https://localhost:8080/"
        },
        "id": "_Bmft5tlMLj2",
        "outputId": "b1ff038c-52c2-4955-e865-b8226dd247b7"
      },
      "execution_count": null,
      "outputs": [
        {
          "output_type": "execute_result",
          "data": {
            "text/plain": [
              "LocalOutlierFactor(contamination=0.003, novelty=True)"
            ]
          },
          "metadata": {},
          "execution_count": 15
        }
      ]
    },
    {
      "cell_type": "code",
      "source": [
        "from sklearn.metrics import f1_score\n",
        "from sklearn.metrics import classification_report\n",
        "\n",
        "val_pred =  lof.predict(val_x) #model prediction\n",
        "val_pred = get_pred_label(val_pred)\n",
        "val_score = f1_score(val_y, val_pred, average='macro')\n",
        "print(f'Validation F1 Score : [{val_score}]')\n",
        "print(classification_report(val_y, val_pred))"
      ],
      "metadata": {
        "colab": {
          "base_uri": "https://localhost:8080/"
        },
        "id": "xZ5aQHlgMwzU",
        "outputId": "45429710-5ff7-43e2-bd6a-eaa85ce3982c"
      },
      "execution_count": null,
      "outputs": [
        {
          "output_type": "stream",
          "name": "stderr",
          "text": [
            "/usr/local/lib/python3.7/dist-packages/sklearn/base.py:451: UserWarning: X does not have valid feature names, but LocalOutlierFactor was fitted with feature names\n",
            "  \"X does not have valid feature names, but\"\n"
          ]
        },
        {
          "output_type": "stream",
          "name": "stdout",
          "text": [
            "Validation F1 Score : [0.4989701973348355]\n",
            "              precision    recall  f1-score   support\n",
            "\n",
            "           0       1.00      1.00      1.00     28432\n",
            "           1       0.00      0.00      0.00        30\n",
            "\n",
            "    accuracy                           1.00     28462\n",
            "   macro avg       0.50      0.50      0.50     28462\n",
            "weighted avg       1.00      1.00      1.00     28462\n",
            "\n"
          ]
        }
      ]
    },
    {
      "cell_type": "code",
      "source": [
        ""
      ],
      "metadata": {
        "id": "kQsDAWydMyGL"
      },
      "execution_count": null,
      "outputs": []
    }
  ]
}