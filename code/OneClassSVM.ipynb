{
  "nbformat": 4,
  "nbformat_minor": 0,
  "metadata": {
    "colab": {
      "name": "OneClassSVM.ipynb",
      "provenance": [],
      "collapsed_sections": []
    },
    "kernelspec": {
      "name": "python3",
      "display_name": "Python 3"
    },
    "language_info": {
      "name": "python"
    }
  },
  "cells": [
    {
      "cell_type": "code",
      "source": [
        "from google.colab import drive\n",
        "drive.mount('/content/drive')"
      ],
      "metadata": {
        "colab": {
          "base_uri": "https://localhost:8080/"
        },
        "id": "8KtFcSk6KGx_",
        "outputId": "5a34728e-948a-4b7a-8ccf-f8bc1c942376"
      },
      "execution_count": null,
      "outputs": [
        {
          "output_type": "stream",
          "name": "stdout",
          "text": [
            "Mounted at /content/drive\n"
          ]
        }
      ]
    },
    {
      "cell_type": "code",
      "source": [
        "import os\n",
        "os.chdir('/content/drive/MyDrive/dacon_anomaly')"
      ],
      "metadata": {
        "id": "NSgt-26VKNmG"
      },
      "execution_count": null,
      "outputs": []
    },
    {
      "cell_type": "code",
      "source": [
        "import pandas as pd\n",
        "import numpy as np\n",
        "from sklearn.metrics import f1_score\n",
        "from sklearn.metrics import classification_report"
      ],
      "metadata": {
        "id": "h6pIYn1WJrH0"
      },
      "execution_count": null,
      "outputs": []
    },
    {
      "cell_type": "code",
      "source": [
        "train_df = pd.read_csv('./data/train.csv') # Train\n",
        "train_x = train_df.drop(columns=['ID'])\n",
        "\n",
        "val_df = pd.read_csv('./data/val.csv') # Validation\n",
        "val_x = val_df.drop(columns=['ID', 'Class']) # Input Data\n",
        "val_y = val_df['Class'] # Label\n",
        "\n",
        "val_normal, val_fraud = val_df['Class'].value_counts()\n",
        "val_contamination = val_fraud / val_normal"
      ],
      "metadata": {
        "id": "-cb94rVf_OZZ"
      },
      "execution_count": null,
      "outputs": []
    },
    {
      "cell_type": "code",
      "source": [
        "# Singular Value Decomposition\n",
        "\n",
        "from sklearn.decomposition import TruncatedSVD\n",
        "\n",
        "n_components = 20\n",
        "algorithm = 'randomized'\n",
        "random_state = 42\n",
        "\n",
        "svd = TruncatedSVD(n_components=n_components, algorithm=algorithm, random_state=random_state)\n",
        "\n",
        "X_train_svd = svd.fit_transform(train_x)\n",
        "X_train_svd = pd.DataFrame(data=X_train_svd)\n",
        "\n",
        "X_valid_svd = svd.transform(val_x)\n",
        "X_valid_svd = pd.DataFrame(data=X_valid_svd)"
      ],
      "metadata": {
        "id": "FynM4_jMegbk"
      },
      "execution_count": null,
      "outputs": []
    },
    {
      "cell_type": "markdown",
      "source": [
        "- One-class support vector machine  \n",
        "  : 주어진 데이터를 잘 설명할 수 있는 최적의 support vector를 구하고 이 영역 밖의 데이터들은 outlier로 간주하는 방식\n",
        "  ![image.png](https://blog.kakaocdn.net/dn/Rw9bH/btqNiVj5r0j/hGDHojo9Nk7IakWnbjAIdK/img.png)"
      ],
      "metadata": {
        "id": "qCm9AHFZNakd"
      }
    },
    {
      "cell_type": "code",
      "source": [
        "# One-Class svm\n",
        "from sklearn.svm import OneClassSVM\n",
        "\n",
        "clf = OneClassSVM(nu = 0.001, kernel = \"rbf\", gamma = 0.0001)\n",
        "clf.fit(X_train_svd)\n",
        "\n",
        "## nu = 0.001, gamma = 0.0001, kernel = 'rbf'  => 0.7034"
      ],
      "metadata": {
        "id": "glXXTLPGEjzN",
        "colab": {
          "base_uri": "https://localhost:8080/"
        },
        "outputId": "ea33ff46-24d2-4407-b6f9-5f1d80a3e93d"
      },
      "execution_count": null,
      "outputs": [
        {
          "output_type": "execute_result",
          "data": {
            "text/plain": [
              "OneClassSVM(gamma=0.0001, nu=0.001)"
            ]
          },
          "metadata": {},
          "execution_count": 24
        }
      ]
    },
    {
      "cell_type": "code",
      "source": [
        "### evaluation : validation set\n",
        "\n",
        "def get_pred_label(model_pred):\n",
        "    model_pred = np.where(model_pred == 1, 0, model_pred)\n",
        "    model_pred = np.where(model_pred == -1, 1, model_pred)\n",
        "    return model_pred"
      ],
      "metadata": {
        "id": "fxk1vXwsKXmO"
      },
      "execution_count": null,
      "outputs": []
    },
    {
      "cell_type": "code",
      "source": [
        "val_pred = clf.predict(X_valid_svd) # model prediction\n",
        "val_pred = get_pred_label(val_pred)\n",
        "val_score = f1_score(val_y, val_pred, average='macro')\n",
        "print(f'Validation F1 Score : [{val_score}]')\n",
        "print(classification_report(val_y, val_pred))"
      ],
      "metadata": {
        "id": "5-a93GD_ILSw",
        "colab": {
          "base_uri": "https://localhost:8080/"
        },
        "outputId": "a2cbacd3-b6e6-4ef9-d16b-ebe01d16426c"
      },
      "execution_count": null,
      "outputs": [
        {
          "output_type": "stream",
          "name": "stdout",
          "text": [
            "Validation F1 Score : [0.6997098595016618]\n",
            "              precision    recall  f1-score   support\n",
            "\n",
            "           0       1.00      1.00      1.00     28432\n",
            "           1       0.44      0.37      0.40        30\n",
            "\n",
            "    accuracy                           1.00     28462\n",
            "   macro avg       0.72      0.68      0.70     28462\n",
            "weighted avg       1.00      1.00      1.00     28462\n",
            "\n"
          ]
        }
      ]
    },
    {
      "cell_type": "code",
      "source": [
        "test_df = pd.read_csv('./data/test.csv') # Train\n",
        "test_x = test_df.drop(columns=['ID'])"
      ],
      "metadata": {
        "id": "NnzuRyIzG3D8"
      },
      "execution_count": null,
      "outputs": []
    },
    {
      "cell_type": "code",
      "source": [
        "X_test_svd = svd.transform(test_x)\n",
        "X_test_svd = pd.DataFrame(data=X_test_svd)"
      ],
      "metadata": {
        "id": "hWkFhdJxDEEL"
      },
      "execution_count": null,
      "outputs": []
    },
    {
      "cell_type": "code",
      "source": [
        "test_pred = clf.predict(X_test_svd) # model prediction\n",
        "test_pred = get_pred_label(test_pred)"
      ],
      "metadata": {
        "id": "B8VN0en1G3D_"
      },
      "execution_count": null,
      "outputs": []
    },
    {
      "cell_type": "code",
      "source": [
        "submit = pd.read_csv('./data/sample_submission.csv')"
      ],
      "metadata": {
        "id": "BamVBJw0G3EA"
      },
      "execution_count": null,
      "outputs": []
    },
    {
      "cell_type": "code",
      "source": [
        "submit['Class'] = test_pred\n",
        "submit.to_csv('submit_SVDOneClassSVM.csv', index=False)"
      ],
      "metadata": {
        "id": "lwHC5UrtG3EA"
      },
      "execution_count": null,
      "outputs": []
    },
    {
      "cell_type": "code",
      "source": [
        ""
      ],
      "metadata": {
        "id": "Yi3NyqZRJpQV"
      },
      "execution_count": null,
      "outputs": []
    }
  ]
}